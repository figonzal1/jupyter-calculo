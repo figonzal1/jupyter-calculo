{
 "cells": [
  {
   "cell_type": "markdown",
   "metadata": {},
   "source": [
    "# Calculo del Jacobiano\n",
    "\n",
    "En este jupyter se mostrará como realizar el calculo del jacobiano en multivariable.\n",
    "\n",
    "El jacobiano corresponde a una matriz vectorial, en donde cada uno de los elementos de la matriz corresponde a una **derivada parcial** de primer orden de la función en cuestión.\n",
    "\n",
    "Se calcula para describir cómo cambia localmente el espacio bajo una transformación multivariable. Te da información sobre rotaciones, escalamientos y compresiones cerca de cada punto, es decir, permite describir el comportamiento de una curva.\n",
    "\n",
    "\n",
    "Por ejemplo, para una función de 2 variables, el jacobiano se define como un **vector fila**, donde:\n",
    "\n",
    "$$\n",
    "J=\n",
    "\\begin{pmatrix}\n",
    "\\dfrac{\\partial f}{\\partial x_1} & \\dfrac{\\partial f}{\\partial x_2} \\\\\n",
    "\\end{pmatrix}\n",
    "$$\n",
    "\n",
    "Luego generalizando para una función de $n$ variables (varias dimensiones):\n",
    "\n",
    "$$\n",
    "J=\n",
    "\\begin{pmatrix}\n",
    "\\dfrac{\\partial f}{\\partial x_1} & \\dfrac{\\partial f}{\\partial x_2} & \\cdots & \\dfrac{\\partial f}{\\partial x_n} \\\\\n",
    "\\end{pmatrix}\n",
    "$$\n",
    "\n",
    "Finalmente, generalizando el cálculo del jacobiano para múltiples funciones de varias dimensiones, tenemos que:\n",
    "\n",
    "$$J=\\begin{pmatrix} \\dfrac{\\partial f_1}{\\partial x_1} & \\dfrac{\\partial f_1}{\\partial x_2} & \\cdots & \\dfrac{\\partial f_1}{\\partial x_n} \\\\\\\\\n",
    "\n",
    "   \\dfrac{\\partial f_2}{\\partial x_1} & \\dfrac{\\partial f_2}{\\partial x_2} & \\cdots & \\dfrac{\\partial f_2}{\\partial x_n} \\\\\n",
    "   \n",
    "    \\vdots & \\vdots & \\ddots & \\vdots \\\\\n",
    "    \n",
    "   \\dfrac{\\partial f_m}{\\partial x_1} & \\dfrac{\\partial f_m}{\\partial x_2} & \\cdots & \\dfrac{\\partial f_m}{\\partial x_n} \\\\\n",
    "\\end{pmatrix}$$\n",
    "\n",
    "**Donde $n$ es el número de dimensiones y $m$ el número de funciones.**\n"
   ]
  },
  {
   "cell_type": "markdown",
   "metadata": {},
   "source": [
    "### Instalación de dependencias necesarias\n",
    "\n",
    "* **sympy:** Dependencia para realizar el cálculo de derivadas simbólicas\n",
    "* **matplotlib:** Dependencia para graficar funciones"
   ]
  },
  {
   "cell_type": "code",
   "execution_count": 1,
   "metadata": {},
   "outputs": [
    {
     "name": "stdout",
     "output_type": "stream",
     "text": [
      "Requirement already satisfied: sympy in /opt/conda/lib/python3.11/site-packages (1.13.2)\n",
      "Requirement already satisfied: matplotlib in /opt/conda/lib/python3.11/site-packages (3.9.2)\n",
      "Requirement already satisfied: mpmath<1.4,>=1.1.0 in /opt/conda/lib/python3.11/site-packages (from sympy) (1.3.0)\n",
      "Requirement already satisfied: contourpy>=1.0.1 in /opt/conda/lib/python3.11/site-packages (from matplotlib) (1.3.0)\n",
      "Requirement already satisfied: cycler>=0.10 in /opt/conda/lib/python3.11/site-packages (from matplotlib) (0.12.1)\n",
      "Requirement already satisfied: fonttools>=4.22.0 in /opt/conda/lib/python3.11/site-packages (from matplotlib) (4.53.1)\n",
      "Requirement already satisfied: kiwisolver>=1.3.1 in /opt/conda/lib/python3.11/site-packages (from matplotlib) (1.4.7)\n",
      "Requirement already satisfied: numpy>=1.23 in /opt/conda/lib/python3.11/site-packages (from matplotlib) (2.1.1)\n",
      "Requirement already satisfied: packaging>=20.0 in /opt/conda/lib/python3.11/site-packages (from matplotlib) (24.1)\n",
      "Requirement already satisfied: pillow>=8 in /opt/conda/lib/python3.11/site-packages (from matplotlib) (10.4.0)\n",
      "Requirement already satisfied: pyparsing>=2.3.1 in /opt/conda/lib/python3.11/site-packages (from matplotlib) (3.1.4)\n",
      "Requirement already satisfied: python-dateutil>=2.7 in /opt/conda/lib/python3.11/site-packages (from matplotlib) (2.9.0)\n",
      "Requirement already satisfied: six>=1.5 in /opt/conda/lib/python3.11/site-packages (from python-dateutil>=2.7->matplotlib) (1.16.0)\n",
      "Note: you may need to restart the kernel to use updated packages.\n"
     ]
    }
   ],
   "source": [
    "pip install sympy matplotlib"
   ]
  }
 ],
 "metadata": {
  "kernelspec": {
   "display_name": "Python 3 (ipykernel)",
   "language": "python",
   "name": "python3"
  },
  "language_info": {
   "codemirror_mode": {
    "name": "ipython",
    "version": 3
   },
   "file_extension": ".py",
   "mimetype": "text/x-python",
   "name": "python",
   "nbconvert_exporter": "python",
   "pygments_lexer": "ipython3",
   "version": "3.11.9"
  }
 },
 "nbformat": 4,
 "nbformat_minor": 2
}
