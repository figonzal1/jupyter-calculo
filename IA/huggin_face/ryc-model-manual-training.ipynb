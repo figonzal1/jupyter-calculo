{
 "cells": [
  {
   "cell_type": "markdown",
   "metadata": {},
   "source": [
    "## Entrenamiento de model (Esto no funciona)\n",
    "\n",
    "Desde ollama solo se permite la creacion de modelos con contexto previo"
   ]
  },
  {
   "cell_type": "code",
   "execution_count": null,
   "metadata": {},
   "outputs": [],
   "source": [
    "!pip install pandas openpyxl"
   ]
  },
  {
   "cell_type": "code",
   "execution_count": 18,
   "metadata": {},
   "outputs": [],
   "source": [
    "import json\n",
    "import pandas as pd\n",
    "import ollama"
   ]
  },
  {
   "cell_type": "code",
   "execution_count": null,
   "metadata": {},
   "outputs": [],
   "source": [
    "import json\n",
    "import pandas as pd\n",
    "import ollama\n",
    "\n",
    "with open('data.json', 'r', encoding='utf-8') as file:\n",
    "    data = json.load(file)\n",
    "\n",
    "# Imprimir el contenido cargado\n",
    "print(data)"
   ]
  },
  {
   "cell_type": "code",
   "execution_count": null,
   "metadata": {},
   "outputs": [],
   "source": [
    "excel = \"DHL_address.xlsx\"\n",
    "df = pd.read_excel(excel)\n",
    "\n",
    "address = df[\"Rcvr Address\"].tolist()\n",
    "\n",
    "print(address)"
   ]
  },
  {
   "cell_type": "code",
   "execution_count": 22,
   "metadata": {},
   "outputs": [],
   "source": [
    "# Funcion para separar datos de entrenamiento con datos de tests\n",
    "\n",
    "def split_list(input_list):\n",
    "    split_index = int(len(input_list) * 0.35)  # Calcula el índice para el 35%\n",
    "    part1 = input_list[:split_index]  # Parte del 35%\n",
    "    part2 = input_list[split_index:]   # Parte del 65%\n",
    "    return part1, part2"
   ]
  },
  {
   "cell_type": "code",
   "execution_count": null,
   "metadata": {},
   "outputs": [],
   "source": [
    "training, test = split_list(address)\n",
    "\n",
    "print(\"Parte 1 (35%):\", training)\n",
    "print(\"Parte 2 (65%):\", test)"
   ]
  },
  {
   "cell_type": "code",
   "execution_count": null,
   "metadata": {},
   "outputs": [],
   "source": [
    "response = ollama.train(\n",
    "    model=\"llama3.1\",\n",
    "    data=training,\n",
    "    output_dir=\"fine-tuned-model\"\n",
    ")\n",
    "\n",
    "print(response)"
   ]
  },
  {
   "cell_type": "code",
   "execution_count": null,
   "metadata": {},
   "outputs": [],
   "source": []
  }
 ],
 "metadata": {
  "kernelspec": {
   "display_name": "Python 3",
   "language": "python",
   "name": "python3"
  },
  "language_info": {
   "codemirror_mode": {
    "name": "ipython",
    "version": 3
   },
   "file_extension": ".py",
   "mimetype": "text/x-python",
   "name": "python",
   "nbconvert_exporter": "python",
   "pygments_lexer": "ipython3",
   "version": "3.12.3"
  }
 },
 "nbformat": 4,
 "nbformat_minor": 2
}
